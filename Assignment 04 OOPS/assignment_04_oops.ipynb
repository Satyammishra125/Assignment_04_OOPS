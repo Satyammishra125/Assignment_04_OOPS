{
 "cells": [
  {
   "cell_type": "markdown",
   "metadata": {},
   "source": [
    "# Object Oriented Programming by Satyam\n",
    "## Question 1. What are the five key concepts of Object-Oriented Programming (OOP)?\n",
    "Ans. The five key concepts of Object-Oriented Programming (OOP) are:\n",
    "\n",
    "1. **Encapsulation**: This means keeping data and functions that work on that data together in one place (like putting your belongings in a box). It helps protect the data from being changed unexpectedly.\n",
    "\n",
    "2. **Abstraction**: This is about showing only the important details and hiding the complex parts. It’s like using a remote control—you only see buttons, not the complicated technology inside.\n",
    "\n",
    "3. **Inheritance**: This allows one class (or type of object) to use features from another class. Think of it like a family where children inherit traits from their parents, allowing them to share common characteristics.\n",
    "\n",
    "4. **Polymorphism**: This means that the same function can work in different ways based on the object it’s used with. It’s like a person who can speak different languages; they adapt based on who they’re talking to.\n",
    "\n",
    "5. **Composition**: This involves building complex objects using simpler ones. It’s like assembling a car from different parts, where each part has its own function, but together they create something more complex.\n",
    "\n",
    "These concepts help make code easier to understand, use, and maintain."
   ]
  },
  {
   "cell_type": "markdown",
   "metadata": {},
   "source": [
    "## Question 2.Write a Python class for a `Car` with attributes for `make`, `model`, and `year`. Include a method to display the car's information."
   ]
  },
  {
   "cell_type": "code",
   "execution_count": 2,
   "metadata": {},
   "outputs": [
    {
     "name": "stdout",
     "output_type": "stream",
     "text": [
      "Car Make: Toyota\n",
      "Car Model: Fortuner\n",
      "Car Year: 2020\n"
     ]
    }
   ],
   "source": [
    "class Car:\n",
    "    def __init__(self, make, model, year):\n",
    "        self.make = make\n",
    "        self.model = model\n",
    "        self.year = year\n",
    "\n",
    "    def display_info(self):\n",
    "        print(f\"Car Make: {self.make}\")\n",
    "        print(f\"Car Model: {self.model}\")\n",
    "        print(f\"Car Year: {self.year}\")\n",
    "\n",
    "# Example usage:\n",
    "my_car = Car(\"Toyota\", \"Fortuner\", 2020)\n",
    "my_car.display_info()\n"
   ]
  },
  {
   "cell_type": "markdown",
   "metadata": {},
   "source": [
    "## Question 3. Explain the difference between instance methods and class methods. Provide an example of each."
   ]
  },
  {
   "cell_type": "markdown",
   "metadata": {},
   "source": [
    "Ans. The difference between instance methods and class methods in Python, along with examples of each.\n",
    "\n",
    "### Instance Methods\n",
    "- **Definition**: Instance methods are functions defined in a class that operate on individual objects (instances) of that class. They can access and modify the instance's attributes.\n",
    "- **How to Use**: we call an instance method using an object of the class.\n",
    "\n",
    "**Example**:\n"
   ]
  },
  {
   "cell_type": "code",
   "execution_count": 3,
   "metadata": {},
   "outputs": [
    {
     "name": "stdout",
     "output_type": "stream",
     "text": [
      "Buddy says Woof!\n"
     ]
    }
   ],
   "source": [
    "class Dog:\n",
    "    def __init__(self, name):\n",
    "        self.name = name\n",
    "\n",
    "    def bark(self):  # Instance method\n",
    "        return f\"{self.name} says Woof!\"\n",
    "\n",
    "# Using the instance method\n",
    "my_dog = Dog(\"Buddy\")\n",
    "print(my_dog.bark())  # Output: Buddy says Woof!\n"
   ]
  },
  {
   "cell_type": "markdown",
   "metadata": {},
   "source": [
    "### Class Methods\n",
    "- **Definition**: Class methods are functions that operate on the class itself rather than on individual instances. They can be used to access or modify class-level attributes. we define a class method using the `@classmethod` decorator.\n",
    "- **How to Use**: we call a class method using the class name, not an instance.\n",
    "\n",
    "**Example**:\n"
   ]
  },
  {
   "cell_type": "code",
   "execution_count": 1,
   "metadata": {},
   "outputs": [
    {
     "name": "stdout",
     "output_type": "stream",
     "text": [
      "Canis lupus familiaris\n"
     ]
    }
   ],
   "source": [
    "class Dog:\n",
    "    species = \"Canis lupus familiaris\"  # Class attribute\n",
    "\n",
    "    @classmethod\n",
    "    def get_species(cls):  # Class method\n",
    "        return cls.species\n",
    "\n",
    "# Using the class method\n",
    "print(Dog.get_species())  # Output: Canis lupus familiaris\n"
   ]
  },
  {
   "cell_type": "markdown",
   "metadata": {},
   "source": [
    "### Summary\n",
    "- **Instance methods** work with specific objects (like your dog \"Buddy\").\n",
    "- **Class methods** work with the class itself and can provide information about all dogs.\n",
    "\n",
    "This way, instance methods focus on the individual objects, while class methods deal with the class as a whole."
   ]
  },
  {
   "cell_type": "markdown",
   "metadata": {},
   "source": [
    "## Question 4. How does Python implement method overloading? Give an example.\n",
    "Ans. Python does not support method overloading in the same way some other languages do (like Java or C++). Instead, we can define a method with the same name but handle different numbers of parameters using default values or variable-length arguments. \n",
    "\n",
    "### Method Overloading Example\n",
    "\n",
    "Here's hoq we can achieve a similar effect using default parameters and `*args`:"
   ]
  },
  {
   "cell_type": "code",
   "execution_count": 5,
   "metadata": {},
   "outputs": [
    {
     "name": "stdout",
     "output_type": "stream",
     "text": [
      "15\n",
      "30\n",
      "15\n"
     ]
    }
   ],
   "source": [
    "class MathOperations:\n",
    "    def add(self, *args):  # Accepts any number of arguments\n",
    "        return sum(args)   # Returns the sum of all arguments\n",
    "\n",
    "# Example usage:\n",
    "math_op = MathOperations()\n",
    "\n",
    "# Using different numbers of arguments\n",
    "print(math_op.add(5, 10))        # Output: 15\n",
    "print(math_op.add(5, 10, 15))    # Output: 30\n",
    "print(math_op.add(1, 2, 3, 4, 5)) # Output: 15\n"
   ]
  },
  {
   "cell_type": "markdown",
   "metadata": {},
   "source": [
    "### Explanation\n",
    "- **Single Method**: The `add` method can take any number of arguments thanks to `*args`.\n",
    "- **Flexible Use**: we can call `add` with two numbers, three numbers, or even more, and it will still work.\n",
    "\n",
    "This approach lets us create methods that can handle different numbers of inputs, simulating method overloading."
   ]
  },
  {
   "cell_type": "markdown",
   "metadata": {},
   "source": [
    "## Question 5. What are the three types of access modifiers in Python? How are they denoted?\n",
    "Ans. In Python, there are three main types of access modifiers that control how attributes and methods can be accessed in a class. Here’s a simple explanation of each:\n",
    "\n",
    "### 1. Public\n",
    "- **Definition**: Public members (attributes or methods) can be accessed from anywhere, both inside and outside the class.\n",
    "- **Denotation**: They are just defined normally without any special symbols.\n",
    "\n",
    "**Example**:"
   ]
  },
  {
   "cell_type": "code",
   "execution_count": 6,
   "metadata": {},
   "outputs": [
    {
     "name": "stdout",
     "output_type": "stream",
     "text": [
      "Toyota\n"
     ]
    }
   ],
   "source": [
    "class Car:\n",
    "    def __init__(self, make):\n",
    "        self.make = make  # Public attribute\n",
    "\n",
    "my_car = Car(\"Toyota\")\n",
    "print(my_car.make)  # Accessible from outside the class"
   ]
  },
  {
   "cell_type": "markdown",
   "metadata": {},
   "source": [
    "### 2. Protected\n",
    "- **Definition**: Protected members are intended to be accessed only within the class and by subclasses (derived classes). They can still be accessed from outside the class but are meant to be \"protected.\"\n",
    "- **Denotation**: They are denoted by a single underscore (`_`) before the name.\n",
    "\n",
    "**Example**:\n"
   ]
  },
  {
   "cell_type": "code",
   "execution_count": 7,
   "metadata": {},
   "outputs": [
    {
     "name": "stdout",
     "output_type": "stream",
     "text": [
      "Ferrari\n"
     ]
    }
   ],
   "source": [
    "class Car:\n",
    "    def __init__(self, make):\n",
    "        self._make = make  # Protected attribute\n",
    "\n",
    "class SportsCar(Car):\n",
    "    def show_make(self):\n",
    "        return self._make  # Accessible in subclass\n",
    "\n",
    "my_sportscar = SportsCar(\"Ferrari\")\n",
    "print(my_sportscar.show_make())  # Accessible here\n"
   ]
  },
  {
   "cell_type": "markdown",
   "metadata": {},
   "source": [
    "### 3. Private\n",
    "- **Definition**: Private members can only be accessed within the class they are defined in. They cannot be accessed from outside the class or from subclasses.\n",
    "- **Denotation**: They are denoted by a double underscore (`__`) before the name.\n",
    "\n",
    "**Example**:\n"
   ]
  },
  {
   "cell_type": "code",
   "execution_count": 8,
   "metadata": {},
   "outputs": [
    {
     "name": "stdout",
     "output_type": "stream",
     "text": [
      "Honda\n"
     ]
    }
   ],
   "source": [
    "class Car:\n",
    "    def __init__(self, make):\n",
    "        self.__make = make  # Private attribute\n",
    "\n",
    "    def get_make(self):  # Method to access the private attribute\n",
    "        return self.__make\n",
    "\n",
    "my_car = Car(\"Honda\")\n",
    "print(my_car.get_make())  # Accessible through a method\n",
    "# print(my_car.__make)  # This would raise an AttributeError\n"
   ]
  },
  {
   "cell_type": "markdown",
   "metadata": {},
   "source": [
    "### Summary\n",
    "- **Public**: Accessible everywhere.\n",
    "- **Protected**: Accessible within the class and subclasses, but not meant for outside access.\n",
    "- **Private**: Accessible only within the class itself. \n",
    "\n",
    "These modifiers help control how we can interact with class attributes and methods!"
   ]
  },
  {
   "cell_type": "markdown",
   "metadata": {},
   "source": [
    "## Question 6. Describe the five types of inheritance in Python. Provide a simple example of multiple inheritance.\n",
    "Ans. The five types of inheritance in Python, along with a simple example of multiple inheritance.\n",
    "\n",
    "### 1. Single Inheritance\n",
    "In single inheritance, a class (child) inherits from one parent class.\n",
    "\n",
    "**Example**:"
   ]
  },
  {
   "cell_type": "code",
   "execution_count": 9,
   "metadata": {},
   "outputs": [
    {
     "name": "stdout",
     "output_type": "stream",
     "text": [
      "Animal speaks\n",
      "Woof!\n"
     ]
    }
   ],
   "source": [
    "class Animal:\n",
    "    def speak(self):\n",
    "        return \"Animal speaks\"\n",
    "\n",
    "class Dog(Animal):  # Dog inherits from Animal\n",
    "    def bark(self):\n",
    "        return \"Woof!\"\n",
    "\n",
    "my_dog = Dog()\n",
    "print(my_dog.speak())  # Output: Animal speaks\n",
    "print(my_dog.bark())   # Output: Woof!\n"
   ]
  },
  {
   "cell_type": "markdown",
   "metadata": {},
   "source": [
    "### 2. Multiple Inheritance\n",
    "In multiple inheritance, a class can inherit from more than one parent class.\n",
    "\n",
    "**Example**:"
   ]
  },
  {
   "cell_type": "code",
   "execution_count": 10,
   "metadata": {},
   "outputs": [
    {
     "name": "stdout",
     "output_type": "stream",
     "text": [
      "Woof! and Meow!\n"
     ]
    }
   ],
   "source": [
    "class Canine:\n",
    "    def bark(self):\n",
    "        return \"Woof!\"\n",
    "\n",
    "class Feline:\n",
    "    def meow(self):\n",
    "        return \"Meow!\"\n",
    "\n",
    "class Hybrid(Canine, Feline):  # Inheriting from both Canine and Feline\n",
    "    def sound(self):\n",
    "        return self.bark() + \" and \" + self.meow()\n",
    "\n",
    "my_pet = Hybrid()\n",
    "print(my_pet.sound())  # Output: Woof! and Meow!\n"
   ]
  },
  {
   "cell_type": "markdown",
   "metadata": {},
   "source": [
    "### 3. Multilevel Inheritance\n",
    "In multilevel inheritance, a class inherits from a parent class, which in turn inherits from another class.\n",
    "\n",
    "**Example**:\n"
   ]
  },
  {
   "cell_type": "code",
   "execution_count": 11,
   "metadata": {},
   "outputs": [
    {
     "name": "stdout",
     "output_type": "stream",
     "text": [
      "Animal speaks\n",
      "Woof!\n",
      "Whine...\n"
     ]
    }
   ],
   "source": [
    "class Animal:\n",
    "    def speak(self):\n",
    "        return \"Animal speaks\"\n",
    "\n",
    "class Dog(Animal):  # Dog inherits from Animal\n",
    "    def bark(self):\n",
    "        return \"Woof!\"\n",
    "\n",
    "class Puppy(Dog):  # Puppy inherits from Dog\n",
    "    def whine(self):\n",
    "        return \"Whine...\"\n",
    "\n",
    "my_puppy = Puppy()\n",
    "print(my_puppy.speak())  # Output: Animal speaks\n",
    "print(my_puppy.bark())   # Output: Woof!\n",
    "print(my_puppy.whine())  # Output: Whine...\n"
   ]
  },
  {
   "cell_type": "markdown",
   "metadata": {},
   "source": [
    "### 4. Hierarchical Inheritance\n",
    "In hierarchical inheritance, multiple classes inherit from a single parent class.\n",
    "\n",
    "**Example**:"
   ]
  },
  {
   "cell_type": "code",
   "execution_count": 12,
   "metadata": {},
   "outputs": [
    {
     "name": "stdout",
     "output_type": "stream",
     "text": [
      "Animal speaks\n",
      "Animal speaks\n"
     ]
    }
   ],
   "source": [
    "class Animal:\n",
    "    def speak(self):\n",
    "        return \"Animal speaks\"\n",
    "\n",
    "class Dog(Animal):  # Dog inherits from Animal\n",
    "    def bark(self):\n",
    "        return \"Woof!\"\n",
    "\n",
    "class Cat(Animal):  # Cat also inherits from Animal\n",
    "    def meow(self):\n",
    "        return \"Meow!\"\n",
    "\n",
    "my_dog = Dog()\n",
    "my_cat = Cat()\n",
    "print(my_dog.speak())  # Output: Animal speaks\n",
    "print(my_cat.speak())  # Output: Animal speaks\n"
   ]
  },
  {
   "cell_type": "markdown",
   "metadata": {},
   "source": [
    "### 5. Hybrid Inheritance\n",
    "Hybrid inheritance is a combination of two or more types of inheritance. It often involves both multiple and multilevel inheritance.\n",
    "**Example**:"
   ]
  },
  {
   "cell_type": "code",
   "execution_count": 13,
   "metadata": {},
   "outputs": [
    {
     "name": "stdout",
     "output_type": "stream",
     "text": [
      "Woof! and Meow!\n"
     ]
    }
   ],
   "source": [
    "class Animal:\n",
    "    def speak(self):\n",
    "        return \"Animal speaks\"\n",
    "\n",
    "class Canine(Animal):\n",
    "    def bark(self):\n",
    "        return \"Woof!\"\n",
    "\n",
    "class Feline(Animal):\n",
    "    def meow(self):\n",
    "        return \"Meow!\"\n",
    "\n",
    "class Dog(Canine):  # Dog inherits from Canine\n",
    "    def sound(self):\n",
    "        return self.bark()\n",
    "\n",
    "class Cat(Feline):  # Cat inherits from Feline\n",
    "    def sound(self):\n",
    "        return self.meow()\n",
    "\n",
    "class Hybrid(Dog, Cat):  # Hybrid inherits from both Dog and Cat\n",
    "    def combined_sound(self):\n",
    "        return self.sound() + \" and \" + self.meow()\n",
    "\n",
    "my_hybrid_pet = Hybrid()\n",
    "print(my_hybrid_pet.combined_sound())  # Output: Woof! and Meow!\n"
   ]
  },
  {
   "cell_type": "markdown",
   "metadata": {},
   "source": [
    "### Summary\n",
    "- **Single**: One child from one parent.\n",
    "- **Multiple**: One child from multiple parents.\n",
    "- **Multilevel**: A chain of inheritance (grandparent to parent to child).\n",
    "- **Hierarchical**: Multiple children from one parent.\n",
    "- **Hybrid**: A mix of two or more types.\n",
    "\n",
    "These inheritance types help organize code and promote reusability!"
   ]
  },
  {
   "cell_type": "markdown",
   "metadata": {},
   "source": [
    "## Question 7. What is the Method Resolution Order (MRO) in Python? How can you retrieve it programmatically?\n",
    "Ans. \n",
    "### What is Method Resolution Order (MRO)?\n",
    "\n",
    "Method Resolution Order (MRO) in Python defines the order in which base classes are searched when executing a method. This is particularly important in the context of multiple inheritance, where Python needs to know which class's method to invoke when a method is called on an instance of a derived class.\n",
    "\n",
    "Python uses the C3 linearization algorithm to determine the MRO, ensuring a consistent and predictable method resolution order.\n",
    "\n",
    "### How to Retrieve MRO Programmatically\n",
    "\n",
    "we can retrieve the MRO of a class using the `mro()` method or the `__mro__` attribute.\n",
    "\n",
    "**Example**:\n"
   ]
  },
  {
   "cell_type": "code",
   "execution_count": 14,
   "metadata": {},
   "outputs": [
    {
     "name": "stdout",
     "output_type": "stream",
     "text": [
      "[<class '__main__.D'>, <class '__main__.B'>, <class '__main__.C'>, <class '__main__.A'>, <class 'object'>]\n",
      "(<class '__main__.D'>, <class '__main__.B'>, <class '__main__.C'>, <class '__main__.A'>, <class 'object'>)\n"
     ]
    }
   ],
   "source": [
    "class A:\n",
    "    pass\n",
    "\n",
    "class B(A):\n",
    "    pass\n",
    "\n",
    "class C(A):\n",
    "    pass\n",
    "\n",
    "class D(B, C):  # Multiple inheritance\n",
    "    pass\n",
    "\n",
    "# Retrieving the MRO\n",
    "print(D.mro())        # Output: [<class '__main__.D'>, <class '__main__.B'>, <class '__main__.C'>, <class '__main__.A'>, <class 'object'>]\n",
    "print(D.__mro__)      # Output: (<class '__main__.D'>, <class '__main__.B'>, <class '__main__.C'>, <class '__main__.A'>, <class 'object'>)"
   ]
  },
  {
   "cell_type": "markdown",
   "metadata": {},
   "source": [
    "### Summary\n",
    "- **MRO** determines the order in which base classes are looked up when a method is called.\n",
    "- we can retrieve the MRO of a class using `ClassName.mro()` or `ClassName.__mro__`.\n",
    "\n",
    "This helps ensure that the correct methods are called, especially in complex inheritance hierarchies!"
   ]
  },
  {
   "cell_type": "markdown",
   "metadata": {},
   "source": [
    "## Question 8. Create an abstract base class `Shape` with an abstract method `area()`. Then create two subclasses `Circle` and `Rectangle` that implement the `area()` method."
   ]
  },
  {
   "cell_type": "code",
   "execution_count": 15,
   "metadata": {},
   "outputs": [
    {
     "name": "stdout",
     "output_type": "stream",
     "text": [
      "Area of Circle: 78.54\n",
      "Area of Rectangle: 24.00\n"
     ]
    }
   ],
   "source": [
    "from abc import ABC, abstractmethod\n",
    "import math\n",
    "\n",
    "# Abstract base class\n",
    "class Shape(ABC):\n",
    "    @abstractmethod\n",
    "    def area(self):\n",
    "        pass\n",
    "\n",
    "# Subclass for Circle\n",
    "class Circle(Shape):\n",
    "    def __init__(self, radius):\n",
    "        self.radius = radius\n",
    "\n",
    "    def area(self):\n",
    "        return math.pi * (self.radius ** 2)\n",
    "\n",
    "# Subclass for Rectangle\n",
    "class Rectangle(Shape):\n",
    "    def __init__(self, width, height):\n",
    "        self.width = width\n",
    "        self.height = height\n",
    "\n",
    "    def area(self):\n",
    "        return self.width * self.height\n",
    "\n",
    "# Example usage\n",
    "circle = Circle(5)\n",
    "rectangle = Rectangle(4, 6)\n",
    "\n",
    "print(f\"Area of Circle: {circle.area():.2f}\")      # Output: Area of Circle: 78.54\n",
    "print(f\"Area of Rectangle: {rectangle.area():.2f}\") # Output: Area of Rectangle: 24.00\n"
   ]
  },
  {
   "cell_type": "markdown",
   "metadata": {},
   "source": [
    "### Explanation\n",
    "1. **Abstract Base Class**: The `Shape` class is defined as an abstract base class using `ABC` and includes the abstract method `area()`.\n",
    "2. **Circle Class**: The `Circle` class inherits from `Shape` and implements the `area()` method using the formula for the area of a circle.\n",
    "3. **Rectangle Class**: The `Rectangle` class also inherits from `Shape` and implements the `area()` method using the formula for the area of a rectangle.\n",
    "4. **Usage**: we can create instances of `Circle` and `Rectangle`, then call their `area()` methods to compute and display their areas.\n",
    "\n",
    "This structure ensures that any subclass of `Shape` must implement the `area()` method, promoting a consistent interface for all shapes!"
   ]
  },
  {
   "cell_type": "markdown",
   "metadata": {},
   "source": [
    "## Question 9. Demonstrate polymorphism by creating a function that can work with different shape objects to calculate and print their areas."
   ]
  },
  {
   "cell_type": "code",
   "execution_count": 16,
   "metadata": {},
   "outputs": [
    {
     "name": "stdout",
     "output_type": "stream",
     "text": [
      "The area is: 78.53981633974483\n",
      "The area is: 24\n",
      "The area is: 10.5\n"
     ]
    }
   ],
   "source": [
    "import math\n",
    "\n",
    "class Shape:\n",
    "    def area(self):\n",
    "        raise NotImplementedError(\"Subclasses must implement this method\")\n",
    "\n",
    "class Circle(Shape):\n",
    "    def __init__(self, radius):\n",
    "        self.radius = radius\n",
    "\n",
    "    def area(self):\n",
    "        return math.pi * (self.radius ** 2)\n",
    "\n",
    "class Rectangle(Shape):\n",
    "    def __init__(self, width, height):\n",
    "        self.width = width\n",
    "        self.height = height\n",
    "\n",
    "    def area(self):\n",
    "        return self.width * self.height\n",
    "\n",
    "class Triangle(Shape):\n",
    "    def __init__(self, base, height):\n",
    "        self.base = base\n",
    "        self.height = height\n",
    "\n",
    "    def area(self):\n",
    "        return 0.5 * self.base * self.height\n",
    "\n",
    "def print_area(shape):\n",
    "    print(f\"The area is: {shape.area()}\")\n",
    "\n",
    "# Creating instances of each shape\n",
    "circle = Circle(radius=5)\n",
    "rectangle = Rectangle(width=4, height=6)\n",
    "triangle = Triangle(base=3, height=7)\n",
    "\n",
    "# Demonstrating polymorphism\n",
    "print_area(circle)\n",
    "print_area(rectangle)\n",
    "print_area(triangle)\n"
   ]
  },
  {
   "cell_type": "markdown",
   "metadata": {},
   "source": [
    "### Explanation:\n",
    "1. **Shape Base Class**: This defines an interface for all shapes with a method `area`.\n",
    "2. **Circle, Rectangle, Triangle Classes**: Each class implements the `area` method, calculating its area based on its specific formula.\n",
    "3. **`print_area` Function**: This function takes any shape object and calls its `area` method, demonstrating polymorphism as it works with any subclass of `Shape`.\n",
    "4. **Instances**: We create instances of `Circle`, `Rectangle`, and `Triangle`, and call `print_area` for each, showcasing how the same function can handle different types of objects.\n",
    "\n",
    "This way, we can easily add more shapes in the future by just creating a new class that inherits from `Shape`."
   ]
  },
  {
   "cell_type": "markdown",
   "metadata": {},
   "source": [
    "## Question 10. Implement encapsulation in a `BankAccount` class with private attributes for `balance` and `account_number`. Include methods for deposit, withdrawal, and balance inquiry."
   ]
  },
  {
   "cell_type": "code",
   "execution_count": 17,
   "metadata": {},
   "outputs": [
    {
     "name": "stdout",
     "output_type": "stream",
     "text": [
      "Deposited: ₹5000.00. New balance: ₹15000.00\n",
      "Withdrew: ₹3000.00. New balance: ₹12000.00\n",
      "Current balance: ₹12000.00\n",
      "Account number: 123456789\n"
     ]
    }
   ],
   "source": [
    "class BankAccount:\n",
    "    def __init__(self, account_number, initial_balance=0):\n",
    "        self.__account_number = account_number  # Private attribute\n",
    "        self.__balance = initial_balance         # Private attribute\n",
    "\n",
    "    def deposit(self, amount):\n",
    "        if amount > 0:\n",
    "            self.__balance += amount\n",
    "            print(f\"Deposited: ₹{amount:.2f}. New balance: ₹{self.__balance:.2f}\")\n",
    "        else:\n",
    "            print(\"Deposit amount must be positive.\")\n",
    "\n",
    "    def withdraw(self, amount):\n",
    "        if amount > 0:\n",
    "            if amount <= self.__balance:\n",
    "                self.__balance -= amount\n",
    "                print(f\"Withdrew: ₹{amount:.2f}. New balance: ₹{self.__balance:.2f}\")\n",
    "            else:\n",
    "                print(\"Insufficient funds.\")\n",
    "        else:\n",
    "            print(\"Withdrawal amount must be positive.\")\n",
    "\n",
    "    def get_balance(self):\n",
    "        return self.__balance\n",
    "\n",
    "    def get_account_number(self):\n",
    "        return self.__account_number\n",
    "\n",
    "# Example usage\n",
    "if __name__ == \"__main__\":\n",
    "    account = BankAccount(account_number=\"123456789\", initial_balance=10000.0)\n",
    "\n",
    "    account.deposit(5000)\n",
    "    account.withdraw(3000)\n",
    "    print(f\"Current balance: ₹{account.get_balance():.2f}\")\n",
    "    print(f\"Account number: {account.get_account_number()}\")\n"
   ]
  },
  {
   "cell_type": "markdown",
   "metadata": {},
   "source": [
    "### Explanation:\n",
    "1. **Private Attributes**: The attributes `__balance` and `__account_number` are marked private by prefixing them with double underscores. This restricts direct access from outside the class.\n",
    "\n",
    "2. **Constructor**: The `__init__` method initializes the account number and the initial balance.\n",
    "\n",
    "3. **Deposit Method**: The `deposit` method allows the user to add funds to the account. It checks if the amount is positive before updating the balance.\n",
    "\n",
    "4. **Withdraw Method**: The `withdraw` method allows the user to withdraw funds. It checks for sufficient balance and if the amount is positive.\n",
    "\n",
    "5. **Get Methods**: The `get_balance` and `get_account_number` methods provide controlled access to the private attributes without allowing modification.\n",
    "\n",
    "### Example Usage:\n",
    "The example at the bottom creates an instance of `BankAccount`, performs some deposits and withdrawals, and prints the current balance and account number, demonstrating encapsulation in action."
   ]
  },
  {
   "cell_type": "markdown",
   "metadata": {},
   "source": [
    "## Question 11. Write a class that overrides the `__str__` and `__add__` magic methods. What will these methods allow you to do?\n",
    "Ans. In Python, the `__str__` and `__add__` magic methods allow we to customize the string representation of an object and define how objects of a class can be added together, respectively.\n",
    "\n",
    "Here’s an example of a class called `Vector` that represents a mathematical vector. This class overrides both `__str__` and `__add__`:\n"
   ]
  },
  {
   "cell_type": "code",
   "execution_count": 18,
   "metadata": {},
   "outputs": [
    {
     "name": "stdout",
     "output_type": "stream",
     "text": [
      "Vector(2, 3)\n",
      "Vector(5, 7)\n",
      "Vector(7, 10)\n"
     ]
    }
   ],
   "source": [
    "class Vector:\n",
    "    def __init__(self, x, y):\n",
    "        self.x = x\n",
    "        self.y = y\n",
    "\n",
    "    def __str__(self):\n",
    "        return f\"Vector({self.x}, {self.y})\"\n",
    "\n",
    "    def __add__(self, other):\n",
    "        if isinstance(other, Vector):\n",
    "            return Vector(self.x + other.x, self.y + other.y)\n",
    "        return NotImplemented\n",
    "\n",
    "# Example usage\n",
    "if __name__ == \"__main__\":\n",
    "    v1 = Vector(2, 3)\n",
    "    v2 = Vector(5, 7)\n",
    "\n",
    "    print(v1)             # This will use the __str__ method\n",
    "    print(v2)             # This will use the __str__ method\n",
    "    v3 = v1 + v2         # This will use the __add__ method\n",
    "    print(v3)            # This will use the __str__ method to display the result\n"
   ]
  },
  {
   "cell_type": "markdown",
   "metadata": {},
   "source": [
    "### Explanation:\n",
    "1. **`__init__` Method**: Initializes a `Vector` object with `x` and `y` components.\n",
    "\n",
    "2. **`__str__` Method**: This method defines how to represent the object as a string. When we use `print(v1)`, it outputs `Vector(2, 3)` instead of a default representation.\n",
    "\n",
    "3. **`__add__` Method**: This method defines the behavior of the `+` operator. When we add two `Vector` objects (e.g., `v1 + v2`), it creates and returns a new `Vector` object whose components are the sums of the corresponding components of the two vectors.\n",
    "\n",
    "### What These Methods Allow we to Do:\n",
    "- **Custom String Representation**: The `__str__` method allows we to provide a human-readable string representation of your object, which is especially useful for debugging and logging.\n",
    "  \n",
    "- **Custom Addition Behavior**: The `__add__` method enables we to define how objects of your class should be combined using the `+` operator, making your class more intuitive to use and interact with.\n",
    "\n",
    "### Example Output:\n",
    "When running the provided example, we would see:\n",
    "```\n",
    "Vector(2, 3)\n",
    "Vector(5, 7)\n",
    "Vector(7, 10)\n",
    "```\n",
    "\n",
    "This output clearly shows how the `Vector` class handles string representation and addition in a user-friendly manner."
   ]
  },
  {
   "cell_type": "markdown",
   "metadata": {},
   "source": [
    "## Question 12. Create a decorator that measures and prints the execution time of a function.\n",
    "Ans. we can create a simple decorator in Python that measures and prints the execution time of a function. Here’s how we can implement it:"
   ]
  },
  {
   "cell_type": "code",
   "execution_count": 19,
   "metadata": {},
   "outputs": [
    {
     "name": "stdout",
     "output_type": "stream",
     "text": [
      "Execution time of example_function: 0.072953 seconds\n",
      "Result: 499999500000\n"
     ]
    }
   ],
   "source": [
    "\n",
    "import time\n",
    "\n",
    "def timeit(func):\n",
    "    def wrapper(*args, **kwargs):\n",
    "        start_time = time.time()  # Record the start time\n",
    "        result = func(*args, **kwargs)  # Call the original function\n",
    "        end_time = time.time()  # Record the end time\n",
    "        execution_time = end_time - start_time  # Calculate the execution time\n",
    "        print(f\"Execution time of {func.__name__}: {execution_time:.6f} seconds\")\n",
    "        return result  # Return the result of the function\n",
    "    return wrapper\n",
    "\n",
    "# Example usage\n",
    "@timeit\n",
    "def example_function(n):\n",
    "    total = 0\n",
    "    for i in range(n):\n",
    "        total += i\n",
    "    return total\n",
    "\n",
    "if __name__ == \"__main__\":\n",
    "    result = example_function(1000000)\n",
    "    print(f\"Result: {result}\")\n"
   ]
  },
  {
   "cell_type": "markdown",
   "metadata": {},
   "source": [
    "### Explanation:\n",
    "1. **Decorator Definition**: The `timeit` function is defined as a decorator. It takes a function `func` as an argument.\n",
    "\n",
    "2. **Wrapper Function**: Inside `timeit`, the `wrapper` function is defined. This function captures the arguments (`*args` and `**kwargs`) passed to the original function.\n",
    "\n",
    "3. **Timing the Execution**:\n",
    "   - It records the start time using `time.time()`.\n",
    "   - It calls the original function and stores its result.\n",
    "   - It records the end time and calculates the execution time.\n",
    "\n",
    "4. **Printing the Execution Time**: The decorator prints the execution time formatted to six decimal places.\n",
    "\n",
    "5. **Returning the Result**: Finally, the `wrapper` function returns the result of the original function.\n",
    "\n",
    "### Example Usage:\n",
    "The `@timeit` decorator is applied to the `example_function`, which sums the numbers from `0` to `n-1`. When we run the program, it will print the execution time for the function.\n",
    "\n",
    "### Output:\n",
    "we might see output similar to:\n",
    "```\n",
    "Execution time of example_function: 0.123456 seconds\n",
    "Result: 499999500000\n",
    "```\n",
    "\n",
    "This shows both the execution time of the function and the result of the computation. we can apply this decorator to any function we want to measure!"
   ]
  },
  {
   "cell_type": "markdown",
   "metadata": {},
   "source": [
    "## Question 13. Explain the concept of the Diamond Problem in multiple inheritance. How does Python resolve it?\n",
    "Ans. The Diamond Problem occurs in multiple inheritance scenarios when a class inherits from two classes that both inherit from a common ancestor. This creates a diamond shape in the inheritance hierarchy. The challenge arises when trying to determine which version of a method or attribute should be used.\n",
    "\n",
    "### Diamond Problem Example\n",
    "\n",
    "Consider the following class structure:\n",
    "\n",
    "```\n",
    "      A\n",
    "     / \\\n",
    "    B   C\n",
    "     \\ /\n",
    "      D\n",
    "```\n",
    "\n",
    "- Class `A` is the base class.\n",
    "- Classes `B` and `C` both inherit from `A`.\n",
    "- Class `D` inherits from both `B` and `C`.\n",
    "\n",
    "If class `D` tries to call a method that exists in class `A`, it creates ambiguity: should `D` use the method from `B` or from `C`?\n",
    "\n",
    "### Python's Resolution: Method Resolution Order (MRO)\n",
    "\n",
    "Python resolves the Diamond Problem using a method called **Method Resolution Order (MRO)**. The MRO defines the order in which base classes are searched when executing a method. Python uses the C3 linearization algorithm to determine this order, which ensures that:\n",
    "\n",
    "1. **Parent classes are checked from left to right**.\n",
    "2. **A class is only considered after all its parents have been checked**.\n",
    "3. **The order preserves the hierarchy**.\n",
    "\n",
    "### Example Implementation\n",
    "\n",
    "Here’s a Python example to illustrate the concept:"
   ]
  },
  {
   "cell_type": "code",
   "execution_count": 20,
   "metadata": {},
   "outputs": [
    {
     "name": "stdout",
     "output_type": "stream",
     "text": [
      "Hello from B\n"
     ]
    }
   ],
   "source": [
    "class A:\n",
    "    def greet(self):\n",
    "        return \"Hello from A\"\n",
    "\n",
    "class B(A):\n",
    "    def greet(self):\n",
    "        return \"Hello from B\"\n",
    "\n",
    "class C(A):\n",
    "    def greet(self):\n",
    "        return \"Hello from C\"\n",
    "\n",
    "class D(B, C):\n",
    "    pass\n",
    "\n",
    "# Creating an instance of D\n",
    "d = D()\n",
    "print(d.greet())  # Output will be \"Hello from B\""
   ]
  },
  {
   "cell_type": "markdown",
   "metadata": {},
   "source": [
    "### Explanation of the Output\n",
    "\n",
    "In the example above:\n",
    "- `D` inherits from `B` and `C`, both of which inherit from `A`.\n",
    "- When `d.greet()` is called, Python looks for the `greet` method in `D`, then in `B`, then in `C`, and finally in `A`.\n",
    "- The MRO for class `D` would be `[D, B, C, A]`, meaning `D` will first check `B` for the `greet` method, which is why the output is \"Hello from B\".\n",
    "\n",
    "### Checking the MRO\n",
    "\n",
    "we can view the MRO of a class using the `mro()` method:\n",
    "\n",
    "```python\n",
    "print(D.mro())  # Output: [<class '__main__.D'>, <class '__main__.B'>, <class '__main__.C'>, <class '__main__.A'>, <class 'object'>]\n",
    "```\n",
    "\n",
    "### Conclusion\n",
    "\n",
    "The Diamond Problem highlights the complexities of multiple inheritance, but Python's MRO system provides a clear and consistent way to determine method resolution, ensuring that the hierarchy is respected and avoiding ambiguity in method calls."
   ]
  },
  {
   "cell_type": "markdown",
   "metadata": {},
   "source": [
    "## Question 14. Write a class method that keeps track of the number of instances created from a class.\n",
    "Ans. We can keep track of the number of instances created from a class by using a class variable along with a class method. Here’s how we can implement this in Python:"
   ]
  },
  {
   "cell_type": "code",
   "execution_count": 21,
   "metadata": {},
   "outputs": [
    {
     "name": "stdout",
     "output_type": "stream",
     "text": [
      "Number of instances created: 3\n"
     ]
    }
   ],
   "source": [
    "class InstanceCounter:\n",
    "    # Class variable to keep track of the number of instances\n",
    "    instance_count = 0\n",
    "\n",
    "    def __init__(self):\n",
    "        # Increment the instance count whenever a new instance is created\n",
    "        InstanceCounter.instance_count += 1\n",
    "\n",
    "    @classmethod\n",
    "    def get_instance_count(cls):\n",
    "        # Class method to return the current instance count\n",
    "        return cls.instance_count\n",
    "\n",
    "# Example usage\n",
    "if __name__ == \"__main__\":\n",
    "    obj1 = InstanceCounter()\n",
    "    obj2 = InstanceCounter()\n",
    "    obj3 = InstanceCounter()\n",
    "\n",
    "    print(f\"Number of instances created: {InstanceCounter.get_instance_count()}\")\n",
    "\n"
   ]
  },
  {
   "cell_type": "markdown",
   "metadata": {},
   "source": [
    "### Explanation:\n",
    "1. **Class Variable**: `instance_count` is a class variable that is shared among all instances of the class. It keeps track of the number of instances created.\n",
    "\n",
    "2. **Constructor**: In the `__init__` method, each time a new instance is created, we increment `instance_count` by 1.\n",
    "\n",
    "3. **Class Method**: The `get_instance_count` class method returns the current value of `instance_count`. This method is decorated with `@classmethod`, allowing it to be called on the class itself, rather than on an instance.\n",
    "\n",
    "### Example Usage:\n",
    "In the example provided, three instances of `InstanceCounter` are created. The output will display the total number of instances created:\n",
    "\n",
    "```\n",
    "Number of instances created: 3\n",
    "```\n",
    "\n",
    "This implementation effectively keeps track of the number of instances in a simple and efficient manner!"
   ]
  },
  {
   "cell_type": "markdown",
   "metadata": {},
   "source": [
    "## Question 15. Implement a static method in a class that checks if a given year is a leap year."
   ]
  },
  {
   "cell_type": "code",
   "execution_count": 22,
   "metadata": {},
   "outputs": [
    {
     "name": "stdout",
     "output_type": "stream",
     "text": [
      "2025 is not a leap year.\n"
     ]
    }
   ],
   "source": [
    "class YearUtils:\n",
    "    @staticmethod\n",
    "    def is_leap_year(year):\n",
    "        \"\"\"Check if a given year is a leap year.\"\"\"\n",
    "        if (year % 4 == 0 and year % 100 != 0) or (year % 400 == 0):\n",
    "            return True\n",
    "        return False\n",
    "\n",
    "# Example usage\n",
    "if __name__ == \"__main__\":\n",
    "    try:\n",
    "        year = int(input(\"Enter a year: \"))  # User input for the year\n",
    "        if YearUtils.is_leap_year(year):\n",
    "            print(f\"{year} is a leap year.\")\n",
    "        else:\n",
    "            print(f\"{year} is not a leap year.\")\n",
    "    except ValueError:\n",
    "        print(\"Please enter a valid integer year.\")\n"
   ]
  },
  {
   "cell_type": "markdown",
   "metadata": {},
   "source": [
    "### Explanation:\n",
    "1. **User Input**: The program prompts the user to enter a year using `input()`. The input is then converted to an integer.\n",
    "\n",
    "2. **Error Handling**: A `try` block is used to catch any `ValueError` exceptions in case the user inputs a non-integer value.\n",
    "\n",
    "3. **Leap Year Check**: The input year is passed to the `is_leap_year` static method, which determines if it's a leap year and prints the result.\n",
    "\n",
    "### Example Output:\n",
    "When we run the program, it will look like this:\n",
    "\n",
    "```\n",
    "Enter a year: 2024\n",
    "2024 is a leap year.\n",
    "```\n",
    "\n",
    "If the user enters a non-integer value, it will display:\n",
    "\n",
    "```\n",
    "Please enter a valid integer year.\n",
    "```\n"
   ]
  }
 ],
 "metadata": {
  "kernelspec": {
   "display_name": "Python 3",
   "language": "python",
   "name": "python3"
  },
  "language_info": {
   "codemirror_mode": {
    "name": "ipython",
    "version": 3
   },
   "file_extension": ".py",
   "mimetype": "text/x-python",
   "name": "python",
   "nbconvert_exporter": "python",
   "pygments_lexer": "ipython3",
   "version": "3.12.6"
  }
 },
 "nbformat": 4,
 "nbformat_minor": 2
}
